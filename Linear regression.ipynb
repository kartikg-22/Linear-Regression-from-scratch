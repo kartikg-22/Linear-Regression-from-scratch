{
 "cells": [
  {
   "cell_type": "code",
   "execution_count": 1,
   "id": "34e5e5ad",
   "metadata": {},
   "outputs": [],
   "source": [
    "#importing libraries\n",
    "import numpy as np\n",
    "import pandas as pd"
   ]
  },
  {
   "cell_type": "code",
   "execution_count": 2,
   "id": "229dacec",
   "metadata": {},
   "outputs": [
    {
     "name": "stdout",
     "output_type": "stream",
     "text": [
      "(1000, 8)\n"
     ]
    }
   ],
   "source": [
    "df = pd.read_csv(\"StudentsPerformance.csv\")\n",
    "print(df.shape)"
   ]
  },
  {
   "cell_type": "code",
   "execution_count": 3,
   "id": "e7b17d03",
   "metadata": {},
   "outputs": [
    {
     "name": "stdout",
     "output_type": "stream",
     "text": [
      "<class 'pandas.core.frame.DataFrame'>\n",
      "RangeIndex: 1000 entries, 0 to 999\n",
      "Data columns (total 8 columns):\n",
      " #   Column                       Non-Null Count  Dtype \n",
      "---  ------                       --------------  ----- \n",
      " 0   gender                       1000 non-null   object\n",
      " 1   race/ethnicity               1000 non-null   object\n",
      " 2   parental level of education  1000 non-null   object\n",
      " 3   lunch                        1000 non-null   object\n",
      " 4   test preparation course      1000 non-null   object\n",
      " 5   math score                   1000 non-null   int64 \n",
      " 6   reading score                1000 non-null   int64 \n",
      " 7   writing score                1000 non-null   int64 \n",
      "dtypes: int64(3), object(5)\n",
      "memory usage: 62.6+ KB\n"
     ]
    },
    {
     "data": {
      "text/plain": [
       "gender                         0\n",
       "race/ethnicity                 0\n",
       "parental level of education    0\n",
       "lunch                          0\n",
       "test preparation course        0\n",
       "math score                     0\n",
       "reading score                  0\n",
       "writing score                  0\n",
       "dtype: int64"
      ]
     },
     "execution_count": 3,
     "metadata": {},
     "output_type": "execute_result"
    }
   ],
   "source": [
    "df.info()\n",
    "df.isnull().sum()\n",
    "#Since no missing value, no need of preprocessing"
   ]
  },
  {
   "cell_type": "code",
   "execution_count": 4,
   "id": "03272363",
   "metadata": {},
   "outputs": [
    {
     "name": "stdout",
     "output_type": "stream",
     "text": [
      "   gender race/ethnicity parental level of education         lunch  \\\n",
      "0  female        group B           bachelor's degree      standard   \n",
      "1  female        group C                some college      standard   \n",
      "2  female        group B             master's degree      standard   \n",
      "3    male        group A          associate's degree  free/reduced   \n",
      "4    male        group C                some college      standard   \n",
      "\n",
      "  test preparation course  math score  reading score  writing score  \n",
      "0                    none          72             72             74  \n",
      "1               completed          69             90             88  \n",
      "2                    none          90             95             93  \n",
      "3                    none          47             57             44  \n",
      "4                    none          76             78             75  \n",
      "(300, 8)\n"
     ]
    }
   ],
   "source": [
    "#Creating a subset d_1 for the first 300 samples. As number or rows are 1000, we will do 0.3 * len(df)\n",
    "split_point = int(0.3 * len(df))\n",
    "d_1 = df[:split_point]\n",
    "print(d_1.head())\n",
    "print(d_1.shape)"
   ]
  },
  {
   "cell_type": "code",
   "execution_count": 5,
   "id": "73afe3d6",
   "metadata": {},
   "outputs": [
    {
     "name": "stdout",
     "output_type": "stream",
     "text": [
      "(300, 2)\n",
      "(300,)\n"
     ]
    }
   ],
   "source": [
    "#Dividing dataset into input and output\n",
    "X = d_1[[\"math score\", \"reading score\"]]\n",
    "Y = d_1[\"writing score\"]\n",
    "print(X.shape)\n",
    "print(Y.shape)"
   ]
  },
  {
   "cell_type": "code",
   "execution_count": 6,
   "id": "a81a298f",
   "metadata": {},
   "outputs": [
    {
     "data": {
      "text/html": [
       "<div>\n",
       "<style scoped>\n",
       "    .dataframe tbody tr th:only-of-type {\n",
       "        vertical-align: middle;\n",
       "    }\n",
       "\n",
       "    .dataframe tbody tr th {\n",
       "        vertical-align: top;\n",
       "    }\n",
       "\n",
       "    .dataframe thead th {\n",
       "        text-align: right;\n",
       "    }\n",
       "</style>\n",
       "<table border=\"1\" class=\"dataframe\">\n",
       "  <thead>\n",
       "    <tr style=\"text-align: right;\">\n",
       "      <th></th>\n",
       "      <th>math score</th>\n",
       "      <th>reading score</th>\n",
       "    </tr>\n",
       "  </thead>\n",
       "  <tbody>\n",
       "    <tr>\n",
       "      <th>0</th>\n",
       "      <td>0.411644</td>\n",
       "      <td>0.242666</td>\n",
       "    </tr>\n",
       "    <tr>\n",
       "      <th>1</th>\n",
       "      <td>0.218384</td>\n",
       "      <td>1.418965</td>\n",
       "    </tr>\n",
       "    <tr>\n",
       "      <th>2</th>\n",
       "      <td>1.571203</td>\n",
       "      <td>1.745715</td>\n",
       "    </tr>\n",
       "    <tr>\n",
       "      <th>3</th>\n",
       "      <td>-1.198856</td>\n",
       "      <td>-0.737583</td>\n",
       "    </tr>\n",
       "    <tr>\n",
       "      <th>4</th>\n",
       "      <td>0.669323</td>\n",
       "      <td>0.634766</td>\n",
       "    </tr>\n",
       "    <tr>\n",
       "      <th>...</th>\n",
       "      <td>...</td>\n",
       "      <td>...</td>\n",
       "    </tr>\n",
       "    <tr>\n",
       "      <th>295</th>\n",
       "      <td>0.089544</td>\n",
       "      <td>-0.410833</td>\n",
       "    </tr>\n",
       "    <tr>\n",
       "      <th>296</th>\n",
       "      <td>-1.263276</td>\n",
       "      <td>-1.783182</td>\n",
       "    </tr>\n",
       "    <tr>\n",
       "      <th>297</th>\n",
       "      <td>0.347224</td>\n",
       "      <td>0.373366</td>\n",
       "    </tr>\n",
       "    <tr>\n",
       "      <th>298</th>\n",
       "      <td>-1.649795</td>\n",
       "      <td>-1.456432</td>\n",
       "    </tr>\n",
       "    <tr>\n",
       "      <th>299</th>\n",
       "      <td>1.571203</td>\n",
       "      <td>1.222915</td>\n",
       "    </tr>\n",
       "  </tbody>\n",
       "</table>\n",
       "<p>300 rows × 2 columns</p>\n",
       "</div>"
      ],
      "text/plain": [
       "     math score  reading score\n",
       "0      0.411644       0.242666\n",
       "1      0.218384       1.418965\n",
       "2      1.571203       1.745715\n",
       "3     -1.198856      -0.737583\n",
       "4      0.669323       0.634766\n",
       "..          ...            ...\n",
       "295    0.089544      -0.410833\n",
       "296   -1.263276      -1.783182\n",
       "297    0.347224       0.373366\n",
       "298   -1.649795      -1.456432\n",
       "299    1.571203       1.222915\n",
       "\n",
       "[300 rows x 2 columns]"
      ]
     },
     "execution_count": 6,
     "metadata": {},
     "output_type": "execute_result"
    }
   ],
   "source": [
    "#We will scale the data for better results \n",
    "X = (X - X.mean())/X.std()\n",
    "X"
   ]
  },
  {
   "cell_type": "code",
   "execution_count": 7,
   "id": "9f436a82",
   "metadata": {},
   "outputs": [],
   "source": [
    "def linear_regression(X, Y, learning_rate, iterations):\n",
    "    m,n = X.shape\n",
    "    weight = np.zeros(n)\n",
    "    bias = 0\n",
    "    \n",
    "    for i in range(iterations):\n",
    "        y_pred = np.dot(X, weight) + bias\n",
    "        \n",
    "        dw = 1/m * np.dot(X.T, (y_pred - Y))\n",
    "        db = 1/m * np.sum(y_pred - Y)\n",
    "        \n",
    "        weight = weight - dw*learning_rate\n",
    "        bias = bias - db*learning_rate\n",
    "        \n",
    "    return weight, bias"
   ]
  },
  {
   "cell_type": "code",
   "execution_count": 8,
   "id": "9c9308b6",
   "metadata": {},
   "outputs": [],
   "source": [
    "#Predicting mean squared error\n",
    "def m_s_e(y_pred, y_actual):\n",
    "    mse = np.mean((y_pred - y_actual)**2)\n",
    "    return mse"
   ]
  },
  {
   "cell_type": "code",
   "execution_count": 9,
   "id": "8a6364ac",
   "metadata": {},
   "outputs": [
    {
     "name": "stdout",
     "output_type": "stream",
     "text": [
      "Calculated weights: [ 0.88199833 14.13053126]\n",
      "Calculated bias: 67.0499999999993\n",
      "mse: 19.62611726128164\n"
     ]
    }
   ],
   "source": [
    "weight, bias = linear_regression(X,Y,0.01,50000)\n",
    "print(f\"Calculated weights: {weight}\")\n",
    "print(f\"Calculated bias: {bias}\")\n",
    "\n",
    "y_pred = np.dot(X, weight) + bias\n",
    "mse = m_s_e(y_pred, Y)\n",
    "print(f\"mse: {mse}\")"
   ]
  },
  {
   "cell_type": "code",
   "execution_count": null,
   "id": "a8e81091",
   "metadata": {},
   "outputs": [],
   "source": []
  }
 ],
 "metadata": {
  "kernelspec": {
   "display_name": "base",
   "language": "python",
   "name": "python3"
  },
  "language_info": {
   "codemirror_mode": {
    "name": "ipython",
    "version": 3
   },
   "file_extension": ".py",
   "mimetype": "text/x-python",
   "name": "python",
   "nbconvert_exporter": "python",
   "pygments_lexer": "ipython3",
   "version": "3.12.3"
  }
 },
 "nbformat": 4,
 "nbformat_minor": 5
}
